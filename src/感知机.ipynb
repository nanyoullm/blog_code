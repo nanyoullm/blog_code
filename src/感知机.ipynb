{
 "cells": [
  {
   "cell_type": "markdown",
   "metadata": {},
   "source": [
    "# 感知机\n",
    "## 模型\n",
    "假设输入空间（特征空间）是$X \\in R^{n}$，输出空间是$Y=\\{+1,-1\\}$。输入的表示实例的特征向量，对应于输入空间的点，输出表示实例的类别。输入空间到输出空间的映射函数是$$f(x)=sign(\\omega*x+b)$$称为感知机，其中$sign$是符号函数，即：$$sign(x)=\\begin{cases} 1, & x>0 \\\\ -1, & x<0 \\end{cases}$$  \n",
    "感知机模型的假设空间是定义在特征空间中所有线性分类模型，即函数集$\\{f|f(x)=\\omega*x+b\\}$"
   ]
  },
  {
   "cell_type": "markdown",
   "metadata": {},
   "source": [
    "## 损失函数\n",
    "假设训练数据集是线性可分的，感知机学习的目的是求得一个能够将训练数据正负实例完全正确分开的分离超平面。  \n",
    "感知机采用的损失函数是：所有误分类的点到超平面的总距离。"
   ]
  },
  {
   "cell_type": "markdown",
   "metadata": {
    "collapsed": true
   },
   "source": [
    "- 点到直线距离\n",
    "回顾一下点到直线距离的推导：  \n",
    "假设有直线L：$w^{T}x+b=0$，点$P$是直线外的一点，点$P^{*}$是经过点$P$与直线L垂直相交的点，L的法向量为$w$，则有：$$\\begin{cases} P-P^{*}=\\alpha \\\\ w^{T}p+b=0 \\end{cases}$$  \n",
    "将式1带入式2，两边同时左乘$w^{T}$，有$$w^{T}p-w^{T}p^{*}=\\alpha ||w|| $$ $$\\alpha=\\frac{w^{T}p+b}{||w||}$$  \n",
    "$\\alpha$就是点到直线的距离"
   ]
  },
  {
   "cell_type": "markdown",
   "metadata": {
    "collapsed": true
   },
   "source": [
    "对于误分类的点集合M，经验风险为：$$L(w,b)=-\\sum\\limits_{x_{i} \\in M}y_{i}(w*x_{i}+b)$$\n",
    "## 优化\n",
    "对于L，分别对w和b求梯度下降方向得$$\\begin{cases} \\nabla _{w}L(w,b)=-\\sum y_{i}x_{i} \\\\ \\nabla _{b}L(w,b)=-\\sum y_{i} \\end{cases}$$\n",
    "更新权值：$$\\begin{cases} w=w+\\eta y_{i}x_{i} \\\\ b=b+\\eta y_{i} \\end{cases}$$"
   ]
  },
  {
   "cell_type": "markdown",
   "metadata": {},
   "source": [
    "## 算法原始形式\n",
    "整理一下，算法的原始形式步骤如下所示：\n",
    "<img src=\"https://raw.githubusercontent.com/nanyoullm/nanyoullm.github.io/master/img/%E6%84%9F%E7%9F%A5%E6%9C%BA%E7%AE%97%E6%B3%95%E5%8E%9F%E5%A7%8B%E5%BD%A2%E5%BC%8F.png\" width=\"600\" alt=\"感知机算法原始形式\"/>\n"
   ]
  },
  {
   "cell_type": "markdown",
   "metadata": {},
   "source": [
    "## 对偶形式\n",
    "对偶形式的基本想法是：将$w$和$b$表示为实例$x_{i}$和标记$y_{i}$的线性组合的形式，通过求解其系数而求得$w$和$b$\n",
    "<img src=\"https://raw.githubusercontent.com/nanyoullm/nanyoullm.github.io/master/img/%E6%84%9F%E7%9F%A5%E6%9C%BA%E5%AF%B9%E5%81%B6%E5%BD%A2%E5%BC%8F1.png\" width=\"600\" alt=\"感知机算法对偶形式1\"/>\n",
    "<img src=\"https://raw.githubusercontent.com/nanyoullm/nanyoullm.github.io/master/img/%E6%84%9F%E7%9F%A5%E6%9C%BA%E5%AF%B9%E5%81%B6%E5%BD%A2%E5%BC%8F2.png\" width=\"600\" alt=\"感知机算法对偶形式2\"/>"
   ]
  },
  {
   "cell_type": "markdown",
   "metadata": {
    "collapsed": true
   },
   "source": [
    "## Try it with Python."
   ]
  },
  {
   "cell_type": "code",
   "execution_count": 1,
   "metadata": {
    "collapsed": true
   },
   "outputs": [],
   "source": [
    "import numpy as np\n",
    "import matplotlib.pyplot as plt\n",
    "%matplotlib inline"
   ]
  },
  {
   "cell_type": "markdown",
   "metadata": {},
   "source": [
    "- 正样本点：[3, 3], [2, 2]\n",
    "- 负样本点：[1, 2], [2, 4]\n",
    "- 看一下正负样本的分布，显然是线性可分的。"
   ]
  },
  {
   "cell_type": "code",
   "execution_count": 2,
   "metadata": {},
   "outputs": [
    {
     "data": {
      "image/png": "[encoded data removed]",
      "text/plain": [
       "<matplotlib.figure.Figure at 0x7fb98fc34da0>"
      ]
     },
     "metadata": {},
     "output_type": "display_data"
    }
   ],
   "source": [
    "plt.plot([3, 2], [3, 2], 'r*', label='positive')\n",
    "plt.plot([1, 2], [2, 4], 'bo', label='negative')\n",
    "plt.axis([0, 5, 0, 5])\n",
    "plt.legend(loc='best')\n",
    "plt.show()"
   ]
  },
  {
   "cell_type": "code",
   "execution_count": 3,
   "metadata": {},
   "outputs": [],
   "source": [
    "# 样本数据\n",
    "x_data = np.array([[3, 3], [2, 2], [1, 2], [2, 4]])\n",
    "y_data = np.array([1, 1, -1, -1])\n",
    "# 设定初始值\n",
    "w = np.random.rand(2)\n",
    "b = 0"
   ]
  },
  {
   "cell_type": "code",
   "execution_count": 4,
   "metadata": {
    "scrolled": true
   },
   "outputs": [
    {
     "name": "stdout",
     "output_type": "stream",
     "text": [
      "w: [-0.29489446 -0.06788728], b: -0.5\n",
      "w: [ 1.20510554  1.43211272], b: 0.0\n",
      "w: [ 0.70510554  0.43211272], b: -0.5\n",
      "w: [-0.29489446 -1.56788728], b: -1.0\n",
      "w: [ 1.20510554 -0.06788728], b: -0.5\n",
      "w: [ 0.70510554 -1.06788728], b: -1.0\n",
      "w: [ 2.20510554  0.43211272], b: -0.5\n",
      "w: [ 1.70510554 -0.56788728], b: -1.0\n",
      "w: [ 0.70510554 -2.56788728], b: -1.5\n",
      "w: [ 2.20510554 -1.06788728], b: -1.0\n"
     ]
    }
   ],
   "source": [
    "# 开始迭代\n",
    "lr = 0.5\n",
    "for step in range(10):\n",
    "    for i in range(x_data.shape[0]):\n",
    "        if y_data[i] * ((w * x_data[i]).sum() + b) <= 0:\n",
    "            w = w + lr * (y_data[i] * x_data[i])\n",
    "            b = b + lr * (y_data[i])\n",
    "            print('w: {}, b: {}'.format(w, b))"
   ]
  },
  {
   "cell_type": "code",
   "execution_count": 5,
   "metadata": {
    "collapsed": true
   },
   "outputs": [],
   "source": [
    "# 选取分类直线上的任意两个点\n",
    "xa = -10\n",
    "xb = 10\n",
    "ya = - (w[0] * xa + b) / w[1]\n",
    "yb = - (w[0] * xb + b) / w[1]"
   ]
  },
  {
   "cell_type": "code",
   "execution_count": 6,
   "metadata": {
    "scrolled": true
   },
   "outputs": [
    {
     "data": {
      "image/png": "[encoded data removed]",
      "text/plain": [
       "<matplotlib.figure.Figure at 0x7fb98d98b6d8>"
      ]
     },
     "metadata": {},
     "output_type": "display_data"
    }
   ],
   "source": [
    "plt.plot([3, 2], [3, 2], 'r*', label='positive')\n",
    "plt.plot([1, 2], [2, 4], 'bo', label='negative')\n",
    "plt.plot([xa, xb], [ya, yb], 'g-')\n",
    "plt.axis([0, 5, 0, 5])\n",
    "plt.legend(loc='best')\n",
    "plt.show()"
   ]
  },
  {
   "cell_type": "markdown",
   "metadata": {},
   "source": [
    "- 经过10次内的迭代，我们可以看到绿色的分类线（二维）可以完全把数据集分开。\n",
    "- 可以将线性可分的数据集完全分类的分界线有无数个，但是哪一个是最优的呢？那就要学习统计学习算法中的顶上明珠--SVM了！\n",
    "## enjoy it."
   ]
  }
 ],
 "metadata": {
  "kernelspec": {
   "display_name": "Python 3",
   "language": "python",
   "name": "python3"
  },
  "language_info": {
   "codemirror_mode": {
    "name": "ipython",
    "version": 3.0
   },
   "file_extension": ".py",
   "mimetype": "text/x-python",
   "name": "python",
   "nbconvert_exporter": "python",
   "pygments_lexer": "ipython3",
   "version": "3.6.1"
  }
 },
 "nbformat": 4,
 "nbformat_minor": 0
}