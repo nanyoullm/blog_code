{
 "cells": [
  {
   "cell_type": "markdown",
   "metadata": {
    "collapsed": true
   },
   "source": [
    "- 相信接触过深度学习的童鞋对手写数字识别的任务并不陌生。它一个入门的阶段，是每位初学深度学习的同学的基本学习任务。任务的目标是建立一个分类模型，对0-9的黑白手写数字图片进行识别。我在这里使用了CNN对训练集做特征提取，使用pyTorch库。  \n"
   ]
  },
  {
   "cell_type": "code",
   "execution_count": 1,
   "metadata": {
    "collapsed": true
   },
   "outputs": [],
   "source": [
    "import torch\n",
    "import torchvision.transforms as transforms\n",
    "import torch.nn as nn\n",
    "import torchvision.datasets as dsets\n",
    "from torch.autograd import Variable"
   ]
  },
  {
   "cell_type": "markdown",
   "metadata": {},
   "source": [
    "- 设置基本参数，迭代5次，batch size设为100，学习率设置为0.001"
   ]
  },
  {
   "cell_type": "code",
   "execution_count": 2,
   "metadata": {
    "collapsed": true
   },
   "outputs": [],
   "source": [
    "num_epochs = 5\n",
    "batch_size = 100\n",
    "learning_rate = 0.001"
   ]
  },
  {
   "cell_type": "markdown",
   "metadata": {},
   "source": [
    "- 对于常见的数据，pytorch都设置有数据获取API"
   ]
  },
  {
   "cell_type": "code",
   "execution_count": 3,
   "metadata": {
    "collapsed": true
   },
   "outputs": [],
   "source": [
    "train_dataset = dsets.MNIST(root='../../data',\n",
    "                            train=True,\n",
    "                            transform=transforms.ToTensor(),\n",
    "                            download=False)\n",
    "train_loader = torch.utils.data.DataLoader(dataset=train_dataset,\n",
    "                                           batch_size=batch_size,\n",
    "                                           shuffle=True)\n",
    "\n",
    "test_dataset = dsets.MNIST(root='../../data',\n",
    "                           train=False,\n",
    "                           transform=transforms.ToTensor())\n",
    "test_loader = torch.utils.data.DataLoader(dataset=test_dataset,\n",
    "                                          batch_size=batch_size,\n",
    "                                          shuffle=False)"
   ]
  },
  {
   "cell_type": "markdown",
   "metadata": {},
   "source": [
    "- 新建类CNN\n",
    "- pytorch提供了一个torch.nn.Module父类，所有的神经网络结构可以通过继承这个父类来实现；\n",
    "- 另外子类还可以通过重写父类的方法如forward来实现神经网络的前馈连接；\n",
    "- 神经网络内部的隐层结构可以通过调用nn.Sequential类，往里面塞卷积层pooling层来实现；"
   ]
  },
  {
   "cell_type": "code",
   "execution_count": 4,
   "metadata": {
    "collapsed": true
   },
   "outputs": [],
   "source": [
    "class CNN(nn.Module):\n",
    "    def __init__(self):\n",
    "        super(CNN, self).__init__()\n",
    "        self.layer1 = nn.Sequential(\n",
    "            nn.Conv2d(1, 16, kernel_size=5, padding=2),\n",
    "            nn.BatchNorm2d(16),\n",
    "            nn.ReLU(),\n",
    "            nn.MaxPool2d(2)\n",
    "        )\n",
    "        self.layer2 = nn.Sequential(\n",
    "            nn.Conv2d(16, 32, kernel_size=5, padding=2),\n",
    "            nn.BatchNorm2d(32),\n",
    "            nn.ReLU(),\n",
    "            nn.MaxPool2d(2)\n",
    "        )\n",
    "        self.fc = nn.Linear(7*7*32, 10)\n",
    "    \n",
    "    def forward(self, x):\n",
    "        out = self.layer1(x)\n",
    "        out = self.layer2(out)\n",
    "        out = out.view(out.size(0), -1)\n",
    "        out = self.fc(out)\n",
    "        return out"
   ]
  },
  {
   "cell_type": "markdown",
   "metadata": {},
   "source": [
    "- 定义CNN变量，并将cnn模型参数和缓存区交给cuda进行运算\n",
    "- 选择交叉熵作为损失函数\n",
    "- 选择Adam算法"
   ]
  },
  {
   "cell_type": "code",
   "execution_count": 5,
   "metadata": {},
   "outputs": [],
   "source": [
    "cnn = CNN()\n",
    "cnn.cuda()\n",
    "criterion = nn.CrossEntropyLoss()\n",
    "optimizer = torch.optim.Adam(cnn.parameters(), lr=learning_rate)"
   ]
  },
  {
   "cell_type": "code",
   "execution_count": null,
   "metadata": {
    "collapsed": true
   },
   "outputs": [],
   "source": [
    "- 开始训练模型"
   ]
  },
  {
   "cell_type": "code",
   "execution_count": 7,
   "metadata": {},
   "outputs": [
    {
     "name": "stdout",
     "output_type": "stream",
     "text": [
      "epoch: 1/5, step: 100/600.0, loss: 0.007191823795437813\n",
      "epoch: 1/5, step: 200/600.0, loss: 0.029861945658922195\n",
      "epoch: 1/5, step: 300/600.0, loss: 0.010123591870069504\n",
      "epoch: 1/5, step: 400/600.0, loss: 0.005973990075290203\n",
      "epoch: 1/5, step: 500/600.0, loss: 0.02123316377401352\n",
      "epoch: 1/5, step: 600/600.0, loss: 0.043297529220581055\n",
      "epoch: 2/5, step: 100/600.0, loss: 0.008047117851674557\n",
      "epoch: 2/5, step: 200/600.0, loss: 0.0028986502438783646\n",
      "epoch: 2/5, step: 300/600.0, loss: 0.06134017929434776\n",
      "epoch: 2/5, step: 400/600.0, loss: 0.00527493841946125\n",
      "epoch: 2/5, step: 500/600.0, loss: 0.0023949909955263138\n",
      "epoch: 2/5, step: 600/600.0, loss: 0.04052555933594704\n",
      "epoch: 3/5, step: 100/600.0, loss: 0.0025511933490633965\n",
      "epoch: 3/5, step: 200/600.0, loss: 0.018858356401324272\n",
      "epoch: 3/5, step: 300/600.0, loss: 0.007384308613836765\n",
      "epoch: 3/5, step: 400/600.0, loss: 0.0013453364372253418\n",
      "epoch: 3/5, step: 500/600.0, loss: 0.01689516380429268\n",
      "epoch: 3/5, step: 600/600.0, loss: 0.014116305857896805\n",
      "epoch: 4/5, step: 100/600.0, loss: 0.0011698532616719604\n",
      "epoch: 4/5, step: 200/600.0, loss: 0.00758977048099041\n",
      "epoch: 4/5, step: 300/600.0, loss: 0.004462475888431072\n",
      "epoch: 4/5, step: 400/600.0, loss: 0.039119914174079895\n",
      "epoch: 4/5, step: 500/600.0, loss: 0.004173200111836195\n",
      "epoch: 4/5, step: 600/600.0, loss: 0.0031711505725979805\n",
      "epoch: 5/5, step: 100/600.0, loss: 0.0017395401373505592\n",
      "epoch: 5/5, step: 200/600.0, loss: 0.005144419614225626\n",
      "epoch: 5/5, step: 300/600.0, loss: 0.002179956529289484\n",
      "epoch: 5/5, step: 400/600.0, loss: 0.0020281272009015083\n",
      "epoch: 5/5, step: 500/600.0, loss: 0.0009707188582979143\n",
      "epoch: 5/5, step: 600/600.0, loss: 0.002221117028966546\n"
     ]
    }
   ],
   "source": [
    "for epoch in range(num_epochs):\n",
    "    for i, (images, labels) in enumerate(train_loader):\n",
    "        images = Variable(images).cuda()\n",
    "        labels = Variable(labels).cuda()\n",
    "        \n",
    "        optimizer.zero_grad()\n",
    "        outputs = cnn(images)\n",
    "        loss = criterion(outputs, labels)\n",
    "        loss.backward()\n",
    "        optimizer.step()\n",
    "        \n",
    "        if (i+1) % 100 == 0:\n",
    "            print('epoch: {}/{}, step: {}/{}, loss: {}'.format(\n",
    "                epoch+1, num_epochs,\n",
    "                i+1, len(train_dataset)/batch_size,\n",
    "                loss.data[0]\n",
    "            ))"
   ]
  },
  {
   "cell_type": "markdown",
   "metadata": {},
   "source": [
    "- 交叉验证"
   ]
  },
  {
   "cell_type": "code",
   "execution_count": 8,
   "metadata": {
    "collapsed": true
   },
   "outputs": [],
   "source": [
    "cnn.eval()\n",
    "correct = 0\n",
    "total = 0\n",
    "for images, labels in test_loader:\n",
    "    images = Variable(images).cuda()\n",
    "    outputs = cnn(images)\n",
    "    _, predicted = torch.max(outputs.data, 1)\n",
    "    total += labels.size(0)\n",
    "    correct += (predicted.cpu() == labels).sum()"
   ]
  },
  {
   "cell_type": "code",
   "execution_count": 9,
   "metadata": {},
   "outputs": [
    {
     "name": "stdout",
     "output_type": "stream",
     "text": [
      "accuracy: 98.89\n"
     ]
    }
   ],
   "source": [
    "print('accuracy: {}'.format(correct/total*100))"
   ]
  },
  {
   "cell_type": "markdown",
   "metadata": {},
   "source": [
    "*so easy, 妈妈再也不用担心我不会用深度学习了*"
   ]
  }
 ],
 "metadata": {
  "kernelspec": {
   "display_name": "Python 3",
   "language": "python",
   "name": "python3"
  },
  "language_info": {
   "codemirror_mode": {
    "name": "ipython",
    "version": 3.0
   },
   "file_extension": ".py",
   "mimetype": "text/x-python",
   "name": "python",
   "nbconvert_exporter": "python",
   "pygments_lexer": "ipython3",
   "version": "3.6.1"
  }
 },
 "nbformat": 4,
 "nbformat_minor": 0
}