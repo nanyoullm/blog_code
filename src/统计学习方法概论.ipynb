{
 "cells": [
  {
   "cell_type": "markdown",
   "metadata": {},
   "source": [
    "# 统计学习方法概论\n",
    "统计学习方法是关于计算机基于数据构建概率统计模型并运用有模型对数据进行预测与分析的一门学科，\n",
    "也被称为统计机器学习（statistical machine learning）  \n",
    "## 基本概念\n",
    "- 输入空间、特征空间与输出空间\n",
    "- 联合概率分布  \n",
    "    监督学习假设输入与输出的随机变量$X$和$Y$遵循联合概率分布$P(X,Y)$。训练数据与测试数据被看做是依联合概率分布$P(X,Y)$独立同分布产生的。\n",
    "- 假设空间  \n",
    "    假设空间是输入空间到输出空间的映射的集合，如神经网络中权重参数的集合，或概率分布的参数；\n",
    "\n",
    "## 三要素\n",
    "统计学习方法的三要素如下"
   ]
  },
  {
   "cell_type": "markdown",
   "metadata": {},
   "source": [
    "$$\\left\\{\\begin{array}{cc}模型假设的空间（模型）\\\\ 模型选择的准则（策略）\\\\模型学习的方法（算法）\\end{array}\\right.$$"
   ]
  },
  {
   "cell_type": "markdown",
   "metadata": {},
   "source": [
    "其中：  \n",
    "### 模型\n",
    "模型指的是学习过程中，所要学习的条件**概率分布**或者**决策函数**，模型的假设空间包含苏有可能的条件概率分布或决策函数；\n",
    "### 策略\n",
    "策略指的是在模型的假设空间，按照什么样的准则学习或选择最优的模型，比如在学习的过程中选择了MSE作为损失函数；  \n",
    "- 损失函数与风险函数\n",
    "损失函数记为$L(Y,f(X))$，损失函数在联合分布$P(X,Y)$下，期望为$$R_{exp}(f)=E_{p}[L(Y,f(X))]=\\int L(y,f(x))P(x,y) {\\rm d}x{\\rm d}y$$\n",
    "成为风险函数或期望损失，而学习的目标就是选择期望风险最小的模型。  \n",
    "对训练集的平均损失称为**经验风险**，当样本量N趋于无穷时，经验风险趋于期望风险，所以自然的想法是利用经验风险估计期望风险。\n",
    "- 经验风险最小化和结构风险最小化\n",
    "当样本量足够大的时候，经验风险最小化可以保证有很好的学习效果；但是，当样本容量很小时，经验风险最小化会出现“过拟合”现象，这个时候就需要**结构风险最小化**，相当于是正则化，结构风险定义为：$$R_{srm}(f)=\\frac{1}{N}\\sum_{i=1}^\\infty L(y_{i},f(x_{i}))+\\lambda J(f)$$\n",
    "\n",
    "###  算法\n",
    "算法是指学习模型的具体计算方法，就是用什么样的计算方法求解最优模型，如梯度下降算法。"
   ]
  },
  {
   "cell_type": "markdown",
   "metadata": {
    "collapsed": true
   },
   "source": [
    "## 正则化与交叉验证\n",
    "- 正则化\n",
    "正则化一般是模型复杂度的单调递增函数，模型越复杂，正则化值越大\n",
    "- 交叉验证  \n",
    "    1. 简单交叉验证：如训练验证73分\n",
    "    2. KFold交叉验证"
   ]
  },
  {
   "cell_type": "markdown",
   "metadata": {},
   "source": [
    "## 泛化能力\n",
    "指的是对位置数据的预测能力，是学习方法重要的属性。"
   ]
  },
  {
   "cell_type": "markdown",
   "metadata": {},
   "source": [
    "## 生成模型和判别模型\n",
    "- 生成方法\n",
    "    1. 由数据学习联合概率分布$P(X,Y)$\n",
    "    2. 然后求出条件概率分布:$P(Y|X)=\\frac{P(X,Y)}{P(X)}$ \n",
    "常见的生成模型如朴素贝叶斯、隐马尔科夫等\n",
    "\n",
    "- 判别模型  \n",
    "由数据直接学习决策函数f(x)或P(Y|X)。常见的判别模型如knn，感知机，决策树，提升法等"
   ]
  },
  {
   "cell_type": "markdown",
   "metadata": {},
   "source": [
    "## 分类问题\n",
    "输出的变量Y取有限个离散值为分类问题。  \n",
    "### 评价指标\n",
    "- $precision=\\frac{TP}{TP+FP}$\n",
    "- $recall=\\frac{TP}{TP+FN}$\n",
    "- $accuracy=\\frac{TP+TN}{ALL}$\n",
    "- $F_{1}=\\frac{2TP}{2TP+FP+FN}$\n",
    "\n",
    "## 标注问题\n",
    "输入序列，输出序列\n",
    "## 回归问题\n",
    "输出连续值，常用的损失函数是平方损失函数"
   ]
  }
 ],
 "metadata": {
  "kernelspec": {
   "display_name": "Python 3",
   "language": "python",
   "name": "python3"
  },
  "language_info": {
   "codemirror_mode": {
    "name": "ipython",
    "version": 3
   },
   "file_extension": ".py",
   "mimetype": "text/x-python",
   "name": "python",
   "nbconvert_exporter": "python",
   "pygments_lexer": "ipython3",
   "version": "3.6.1"
  }
 },
 "nbformat": 4,
 "nbformat_minor": 1
}
