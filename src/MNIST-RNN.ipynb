{
 "cells": [
  {
   "cell_type": "code",
   "execution_count": 1,
   "metadata": {
    "collapsed": true
   },
   "outputs": [],
   "source": [
    "import torch\n",
    "import torch.nn as nn\n",
    "import torchvision.datasets as dsets\n",
    "import torchvision.transforms as transforms\n",
    "from torch.autograd import Variable"
   ]
  },
  {
   "cell_type": "markdown",
   "metadata": {},
   "source": [
    "- 设置训练时需要用到的参数\n",
    "- 其中注意，这里设置lstm内的隐层数为2，开始我对这个参数对网络结构的变化是有疑问的：隐层数为2到底是怎么样子的一个结构？\n",
    "- 我们先回顾一下lstm结构  \n",
    "\n",
    "\n",
    "<br/>\n",
    "![lstm](https://raw.githubusercontent.com/nanyoullm/nanyoullm.github.io/master/img/lstm1.png)\n",
    "<br/>\n",
    "\n",
    "\n",
    "- 那么多层的lstm是什么样子呢，可以参考下图  \n",
    "\n",
    "\n",
    "<br/>\n",
    "![multi-layer lstm](https://raw.githubusercontent.com/nanyoullm/nanyoullm.github.io/master/img/multi-layer%20lstm.png)\n",
    "<br/>\n",
    "\n",
    "\n",
    "- 然而有一点我仍有疑惑，在pyTorch的lstm源码中，我们可以看到如下关于可训练参数的注释：  \n",
    "\n",
    "\n",
    "![注释](https://raw.githubusercontent.com/nanyoullm/nanyoullm.github.io/master/img/lstm%E6%B3%A8%E9%87%8A.png)\n",
    "\n",
    "\n",
    "- 从注释中我们可以看到，两层的lstm层的 W_ii|W_if|W_ig|W_io ，（input_size x 4\\*hidden_size），那么问题来了；第一层lstm的输出h0、h1维度为 hidden_size，是作为第二层lstm的输入，那么为什么注释中，两层lstm的*w*权重都是（input_size x hidden_size）呢？这点我还没有弄清楚，还需要继续研究一下。"
   ]
  },
  {
   "cell_type": "code",
   "execution_count": 2,
   "metadata": {
    "collapsed": true
   },
   "outputs": [],
   "source": [
    "sequence_length = 28\n",
    "input_size = 28\n",
    "hidden_size = 128\n",
    "num_layers = 2\n",
    "num_classes = 10\n",
    "batch_size = 100\n",
    "num_epochs = 2\n",
    "learning_rate = 0.01"
   ]
  },
  {
   "cell_type": "markdown",
   "metadata": {},
   "source": [
    "- 加载MNIST数据，走一波套路"
   ]
  },
  {
   "cell_type": "code",
   "execution_count": 3,
   "metadata": {
    "collapsed": true
   },
   "outputs": [],
   "source": [
    "train_dataset = dsets.MNIST(root='../../data/',\n",
    "                            train=True,\n",
    "                            transform=transforms.ToTensor())\n",
    "train_loader = torch.utils.data.DataLoader(dataset=train_dataset,\n",
    "                                           batch_size=batch_size,\n",
    "                                           shuffle=True)\n",
    "\n",
    "test_dataset = dsets.MNIST(root='../../data/',\n",
    "                           train=False,\n",
    "                           transform=transforms.ToTensor())\n",
    "test_loader = torch.utils.data.DataLoader(dataset=test_dataset,\n",
    "                                          batch_size=batch_size,\n",
    "                                          shuffle=True)"
   ]
  },
  {
   "cell_type": "markdown",
   "metadata": {},
   "source": [
    "- 网络设计为 2-layers LSTM + Linear Layer"
   ]
  },
  {
   "cell_type": "code",
   "execution_count": 4,
   "metadata": {
    "collapsed": true
   },
   "outputs": [],
   "source": [
    "class RNN(nn.Module):\n",
    "    def __init__(self, input_size, hidden_size, num_layers, num_classes):\n",
    "        super(RNN, self).__init__()\n",
    "        self.hidden_size = hidden_size\n",
    "        self.num_layers = num_layers\n",
    "        self.lstm = nn.LSTM(input_size, hidden_size, num_layers, batch_first=True)\n",
    "        self.fc = nn.Linear(hidden_size, num_classes)\n",
    "    \n",
    "    def forward(self, x):\n",
    "        # 初始化状态参数，维度是 （number_layers, batch_size, hidden_size）\n",
    "        h0 = Variable(torch.zeros(self.num_layers, x.size(0), self.hidden_size).cuda())\n",
    "        c0 = Variable(torch.zeros(self.num_layers, x.size(0), self.hidden_size).cuda())\n",
    "        \n",
    "        # lstm输出 （output, (h_n, c_n)）\n",
    "        # output --> (seq_length, batch_size, hidden_size)\n",
    "        # h_n,c_n --> (num_layers, batch_size, hidden_size)\n",
    "        out, _ = self.lstm(x, (h0, c0))\n",
    "        out = self.fc(out[:, -1, :])\n",
    "        return out"
   ]
  },
  {
   "cell_type": "code",
   "execution_count": 5,
   "metadata": {
    "collapsed": true
   },
   "outputs": [],
   "source": [
    "rnn = RNN(input_size, hidden_size, num_layers, num_classes)\n",
    "rnn.cuda()\n",
    "criterion = nn.CrossEntropyLoss()\n",
    "optimizer = torch.optim.Adam(rnn.parameters(), lr=learning_rate)"
   ]
  },
  {
   "cell_type": "code",
   "execution_count": 6,
   "metadata": {},
   "outputs": [
    {
     "name": "stdout",
     "output_type": "stream",
     "text": [
      "epoch: 1/2, step: 100/600.0, loss: 0.39886680245399475\n",
      "epoch: 1/2, step: 200/600.0, loss: 0.1921195536851883\n",
      "epoch: 1/2, step: 300/600.0, loss: 0.2619330883026123\n",
      "epoch: 1/2, step: 400/600.0, loss: 0.0826086699962616\n",
      "epoch: 1/2, step: 500/600.0, loss: 0.2846192419528961\n",
      "epoch: 1/2, step: 600/600.0, loss: 0.09135620296001434\n",
      "epoch: 2/2, step: 100/600.0, loss: 0.09049663692712784\n",
      "epoch: 2/2, step: 200/600.0, loss: 0.15913671255111694\n",
      "epoch: 2/2, step: 300/600.0, loss: 0.03615887463092804\n",
      "epoch: 2/2, step: 400/600.0, loss: 0.056473325937986374\n",
      "epoch: 2/2, step: 500/600.0, loss: 0.1406131535768509\n",
      "epoch: 2/2, step: 600/600.0, loss: 0.07474736869335175\n"
     ]
    }
   ],
   "source": [
    "for epoch in range(num_epochs):\n",
    "    for i, (images, labels) in enumerate(train_loader):\n",
    "        images = Variable(images.view(-1, sequence_length, input_size)).cuda()\n",
    "        labels = Variable(labels).cuda()\n",
    "        \n",
    "        optimizer.zero_grad()\n",
    "        outputs = rnn(images)\n",
    "        loss = criterion(outputs, labels)\n",
    "        loss.backward()\n",
    "        optimizer.step()\n",
    "        \n",
    "        if (i+1) % 100 == 0:\n",
    "            print('epoch: {}/{}, step: {}/{}, loss: {}'.format(\n",
    "                epoch+1, num_epochs,\n",
    "                i+1, len(train_dataset)/batch_size,\n",
    "                loss.data[0]\n",
    "            ))"
   ]
  },
  {
   "cell_type": "code",
   "execution_count": 16,
   "metadata": {},
   "outputs": [
    {
     "name": "stdout",
     "output_type": "stream",
     "text": [
      "Accuracy: 97.91%\n"
     ]
    }
   ],
   "source": [
    "total = 0\n",
    "correct = 0\n",
    "\n",
    "for images, labels in test_loader:\n",
    "    images = Variable(images.view(-1, sequence_length, input_size)).cuda()\n",
    "    labels = Variable(labels).cuda()\n",
    "    outputs = rnn(images)\n",
    "    _, predicted = torch.max(outputs.data, 1)\n",
    "    total += labels.size(0)\n",
    "    correct += (predicted == labels.data).sum()\n",
    "print('Accuracy: {}%'.format(correct / total * 100))"
   ]
  }
 ],
 "metadata": {
  "kernelspec": {
   "display_name": "Python 3",
   "language": "python",
   "name": "python3"
  },
  "language_info": {
   "codemirror_mode": {
    "name": "ipython",
    "version": 3.0
   },
   "file_extension": ".py",
   "mimetype": "text/x-python",
   "name": "python",
   "nbconvert_exporter": "python",
   "pygments_lexer": "ipython3",
   "version": "3.6.1"
  }
 },
 "nbformat": 4,
 "nbformat_minor": 0
}